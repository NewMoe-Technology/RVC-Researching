{
 "cells": [
  {
   "cell_type": "code",
   "execution_count": 16,
   "id": "2e9b2c9f-3412-4651-a76c-4be0b15af18b",
   "metadata": {},
   "outputs": [
    {
     "name": "stderr",
     "output_type": "stream",
     "text": [
      "2025-02-20 15:47:21 | INFO | fairseq.tasks.hubert_pretraining | current directory is /root/hubert\n",
      "2025-02-20 15:47:21 | INFO | fairseq.tasks.hubert_pretraining | HubertPretrainingTask Config {'_name': 'hubert_pretraining', 'data': 'metadata', 'fine_tuning': False, 'labels': ['km'], 'label_dir': 'label', 'label_rate': 50.0, 'sample_rate': 16000, 'normalize': False, 'enable_padding': False, 'max_keep_size': None, 'max_sample_size': 250000, 'min_sample_size': 32000, 'single_target': False, 'random_crop': True, 'pad_audio': False}\n",
      "2025-02-20 15:47:21 | INFO | fairseq.models.hubert.hubert | HubertModel Config: {'_name': 'hubert', 'label_rate': 50.0, 'extractor_mode': default, 'encoder_layers': 12, 'encoder_embed_dim': 768, 'encoder_ffn_embed_dim': 3072, 'encoder_attention_heads': 12, 'activation_fn': gelu, 'layer_type': transformer, 'dropout': 0.1, 'attention_dropout': 0.1, 'activation_dropout': 0.0, 'encoder_layerdrop': 0.05, 'dropout_input': 0.1, 'dropout_features': 0.1, 'final_dim': 256, 'untie_final_proj': True, 'layer_norm_first': False, 'conv_feature_layers': '[(512,10,5)] + [(512,3,2)] * 4 + [(512,2,2)] * 2', 'conv_bias': False, 'logit_temp': 0.1, 'target_glu': False, 'feature_grad_mult': 0.1, 'mask_length': 10, 'mask_prob': 0.8, 'mask_selection': static, 'mask_other': 0.0, 'no_mask_overlap': False, 'mask_min_space': 1, 'mask_channel_length': 10, 'mask_channel_prob': 0.0, 'mask_channel_selection': static, 'mask_channel_other': 0.0, 'no_mask_channel_overlap': False, 'mask_channel_min_space': 1, 'conv_pos': 128, 'conv_pos_groups': 16, 'latent_temp': [2.0, 0.5, 0.999995], 'skip_masked': False, 'skip_nomask': False, 'checkpoint_activations': False, 'required_seq_len_multiple': 2, 'depthwise_conv_kernel_size': 31, 'attn_type': '', 'pos_enc_type': 'abs', 'fp16': False}\n"
     ]
    }
   ],
   "source": [
    "from fairseq import checkpoint_utils\n",
    "import torch\n",
    "hubert,_,_ = checkpoint_utils.load_model_ensemble_and_task(\n",
    "    [\"./hubert_base.pt\"],\n",
    "    suffix=\"\",\n",
    ")\n",
    "hubert_model = hubert[0]\n",
    "hubert_model = hubert_model.half()\n",
    "hubert_model.eval()\n",
    "\n",
    "# Create a Adapter model\n",
    "class HuberAdapter(torch.nn.Module):\n",
    "    def __init__(self, model):\n",
    "        super(HuberAdapter, self).__init__()\n",
    "        self.model = model\n",
    "    def forward(self,feats):\n",
    "        # inputs = {\n",
    "        #     \"source\": feats,\n",
    "        #     \"padding_mask\": padding_mask,\n",
    "        #     # \"padding_mask\": None,\n",
    "        #     \"output_layer\": 12\n",
    "        # }\n",
    "        # return self.model.extract_features(**inputs)\n",
    "        return self.model(\n",
    "            source = feats,\n",
    "            output_layer = 12,\n",
    "            features_only = True,\n",
    "            mask = False\n",
    "        )['x']\n",
    "\n",
    "# Loading presaved feats and padding mask\n",
    "feats = torch.load(\"./feats.pt\")\n",
    "padding_mask = torch.load(\"./padding_mask.pt\")"
   ]
  },
  {
   "cell_type": "code",
   "execution_count": 17,
   "id": "70ebd328-5acb-4144-ad7c-364ce45570ab",
   "metadata": {},
   "outputs": [],
   "source": [
    "adapter = HuberAdapter(hubert_model.cuda())"
   ]
  },
  {
   "cell_type": "code",
   "execution_count": 18,
   "id": "7f2aab8d-e2a2-449b-a5df-7e845da1a1f5",
   "metadata": {},
   "outputs": [],
   "source": [
    "output = adapter(feats)"
   ]
  },
  {
   "cell_type": "code",
   "execution_count": 19,
   "id": "2cb541f7-588d-4af7-93d5-405dfe0cc602",
   "metadata": {},
   "outputs": [
    {
     "data": {
      "text/plain": [
       "torch.Size([100, 768])"
      ]
     },
     "execution_count": 19,
     "metadata": {},
     "output_type": "execute_result"
    }
   ],
   "source": [
    "output[0].shape"
   ]
  },
  {
   "cell_type": "code",
   "execution_count": 20,
   "id": "c5be8443-4e61-4d2e-b916-6a7c2f244f5f",
   "metadata": {},
   "outputs": [
    {
     "ename": "IndexError",
     "evalue": "index 1 is out of bounds for dimension 0 with size 1",
     "output_type": "error",
     "traceback": [
      "\u001b[0;31m---------------------------------------------------------------------------\u001b[0m",
      "\u001b[0;31mIndexError\u001b[0m                                Traceback (most recent call last)",
      "Cell \u001b[0;32mIn[20], line 1\u001b[0m\n\u001b[0;32m----> 1\u001b[0m \u001b[43moutput\u001b[49m\u001b[43m[\u001b[49m\u001b[38;5;241;43m1\u001b[39;49m\u001b[43m]\u001b[49m\u001b[38;5;241m.\u001b[39mshape\n",
      "\u001b[0;31mIndexError\u001b[0m: index 1 is out of bounds for dimension 0 with size 1"
     ]
    }
   ],
   "source": [
    "output[1].shape"
   ]
  },
  {
   "cell_type": "code",
   "execution_count": 21,
   "id": "f338a49f-936e-4680-a36f-292129dae4dc",
   "metadata": {},
   "outputs": [
    {
     "data": {
      "text/plain": [
       "tensor([[-0.1185, -0.0121, -0.1050,  ..., -0.0261,  0.1202, -0.0280],\n",
       "        [-0.2391, -0.1191, -0.3018,  ..., -0.2734,  0.0823,  0.1033],\n",
       "        [-0.1469, -0.0125, -0.2268,  ..., -0.2830, -0.0357,  0.0516],\n",
       "        ...,\n",
       "        [-0.0829,  0.2034, -0.3240,  ..., -0.0253,  0.3257,  0.0418],\n",
       "        [-0.1323,  0.2222, -0.0968,  ...,  0.1378,  0.3203,  0.1581],\n",
       "        [ 0.0549,  0.0267, -0.1801,  ..., -0.0232, -0.0334, -0.1389]],\n",
       "       device='cuda:0', dtype=torch.float16, grad_fn=<SelectBackward0>)"
      ]
     },
     "execution_count": 21,
     "metadata": {},
     "output_type": "execute_result"
    }
   ],
   "source": [
    "output[0]"
   ]
  },
  {
   "cell_type": "code",
   "execution_count": 9,
   "id": "1648ddfe-bd41-4d6b-9f89-7cf54c8e5481",
   "metadata": {},
   "outputs": [
    {
     "name": "stdout",
     "output_type": "stream",
     "text": [
      "Looking in indexes: https://repo.huaweicloud.com/repository/pypi/simple\n",
      "Collecting onnx\n",
      "  Using cached https://repo.huaweicloud.com/repository/pypi/packages/dd/5b/c4f95dbe652d14aeba9afaceb177e9ffc48ac3c03048dd3f872f26f07e34/onnx-1.17.0-cp310-cp310-manylinux_2_17_x86_64.manylinux2014_x86_64.whl (16.0 MB)\n",
      "Collecting onnxruntime-gpu\n",
      "  Downloading https://repo.huaweicloud.com/repository/pypi/packages/45/35/4f2df54e3161c61304d9463b5f2ee52c6408b5bca5960029bb787777d913/onnxruntime_gpu-1.20.1-cp310-cp310-manylinux_2_27_x86_64.manylinux_2_28_x86_64.whl (291.5 MB)\n",
      "\u001b[2K     \u001b[90m━━━━━━━━━━━━━━━━━━━━━━━━━━━━━━━━━━━━━━━\u001b[0m \u001b[32m291.5/291.5 MB\u001b[0m \u001b[31m9.9 MB/s\u001b[0m eta \u001b[36m0:00:00\u001b[0m00:01\u001b[0m00:01\u001b[0m\n",
      "\u001b[?25hRequirement already satisfied: numpy>=1.20 in /root/miniconda3/lib/python3.10/site-packages (from onnx) (1.26.4)\n",
      "Requirement already satisfied: protobuf>=3.20.2 in /root/miniconda3/lib/python3.10/site-packages (from onnx) (4.25.3)\n",
      "Requirement already satisfied: sympy in /root/miniconda3/lib/python3.10/site-packages (from onnxruntime-gpu) (1.13.1)\n",
      "Collecting flatbuffers\n",
      "  Downloading https://repo.huaweicloud.com/repository/pypi/packages/b8/25/155f9f080d5e4bc0082edfda032ea2bc2b8fab3f4d25d46c1e9dd22a1a89/flatbuffers-25.2.10-py2.py3-none-any.whl (30 kB)\n",
      "Collecting coloredlogs\n",
      "  Downloading https://repo.huaweicloud.com/repository/pypi/packages/a7/06/3d6badcf13db419e25b07041d9c7b4a2c331d3f4e7134445ec5df57714cd/coloredlogs-15.0.1-py2.py3-none-any.whl (46 kB)\n",
      "\u001b[2K     \u001b[90m━━━━━━━━━━━━━━━━━━━━━━━━━━━━━━━━━━━━━━━━\u001b[0m \u001b[32m46.0/46.0 kB\u001b[0m \u001b[31m15.5 MB/s\u001b[0m eta \u001b[36m0:00:00\u001b[0m\n",
      "\u001b[?25hRequirement already satisfied: packaging in /root/miniconda3/lib/python3.10/site-packages (from onnxruntime-gpu) (24.1)\n",
      "Collecting humanfriendly>=9.1\n",
      "  Downloading https://repo.huaweicloud.com/repository/pypi/packages/f0/0f/310fb31e39e2d734ccaa2c0fb981ee41f7bd5056ce9bc29b2248bd569169/humanfriendly-10.0-py2.py3-none-any.whl (86 kB)\n",
      "\u001b[2K     \u001b[90m━━━━━━━━━━━━━━━━━━━━━━━━━━━━━━━━━━━━━━━━\u001b[0m \u001b[32m86.8/86.8 kB\u001b[0m \u001b[31m33.1 MB/s\u001b[0m eta \u001b[36m0:00:00\u001b[0m\n",
      "\u001b[?25hRequirement already satisfied: mpmath<1.4,>=1.1.0 in /root/miniconda3/lib/python3.10/site-packages (from sympy->onnxruntime-gpu) (1.3.0)\n",
      "Installing collected packages: flatbuffers, onnx, humanfriendly, coloredlogs, onnxruntime-gpu\n",
      "Successfully installed coloredlogs-15.0.1 flatbuffers-25.2.10 humanfriendly-10.0 onnx-1.17.0 onnxruntime-gpu-1.20.1\n",
      "\u001b[33mWARNING: Running pip as the 'root' user can result in broken permissions and conflicting behaviour with the system package manager. It is recommended to use a virtual environment instead: https://pip.pypa.io/warnings/venv\u001b[0m\u001b[33m\n",
      "\u001b[0m"
     ]
    }
   ],
   "source": [
    "!pip install onnx onnxruntime-gpu"
   ]
  },
  {
   "cell_type": "markdown",
   "id": "52e80cf1-008d-4f7f-bfe6-fa37ea41c0e1",
   "metadata": {},
   "source": [
    "Before runnning exportation code,i;ve modified fairseq/models/wav2vec/utils.py with below code:\n",
    "```python\n",
    "def pad_to_multiple(x, multiple, dim=-1, value=0):\n",
    "    # Inspired from https://github.com/lucidrains/local-attention/blob/master/local_attention/local_attention.py#L41\n",
    "    if x is None:\n",
    "        return None, 0\n",
    "    tsz = x.size(dim)\n",
    "    m = tsz / multiple\n",
    "    remainder = math.ceil(m) * multiple - tsz\n",
    "    m = float(m) # => If without this,will raise `Tensor object has no attribute is_integer()`\n",
    "    if m.is_integer():\n",
    "        return x, 0\n",
    "    pad_offset = (0,) * (-1 - dim) * 2\n",
    "\n",
    "    return F.pad(x, (*pad_offset, 0, remainder), value=value), remainder\n",
    "```"
   ]
  },
  {
   "cell_type": "code",
   "execution_count": 23,
   "id": "89950de7-3fd3-45c4-b3a0-02b464394fd8",
   "metadata": {},
   "outputs": [
    {
     "name": "stderr",
     "output_type": "stream",
     "text": [
      "/root/miniconda3/lib/python3.10/site-packages/fairseq/models/wav2vec/utils.py:16: TracerWarning: Converting a tensor to a Python float might cause the trace to be incorrect. We can't record the data flow of Python values, so this value will be treated as a constant in the future. This means that the trace might not generalize to other inputs!\n",
      "  remainder = math.ceil(m) * multiple - tsz\n",
      "/root/miniconda3/lib/python3.10/site-packages/fairseq/models/wav2vec/utils.py:17: TracerWarning: Converting a tensor to a Python float might cause the trace to be incorrect. We can't record the data flow of Python values, so this value will be treated as a constant in the future. This means that the trace might not generalize to other inputs!\n",
      "  if float(m).is_integer():\n",
      "/root/miniconda3/lib/python3.10/site-packages/fairseq/modules/multihead_attention.py:507: TracerWarning: Converting a tensor to a Python boolean might cause the trace to be incorrect. We can't record the data flow of Python values, so this value will be treated as a constant in the future. This means that the trace might not generalize to other inputs!\n",
      "  embed_dim == self.embed_dim\n",
      "/root/miniconda3/lib/python3.10/site-packages/fairseq/modules/multihead_attention.py:509: TracerWarning: Converting a tensor to a Python boolean might cause the trace to be incorrect. We can't record the data flow of Python values, so this value will be treated as a constant in the future. This means that the trace might not generalize to other inputs!\n",
      "  assert list(query.size()) == [tgt_len, bsz, embed_dim]\n",
      "/root/miniconda3/lib/python3.10/site-packages/fairseq/modules/multihead_attention.py:514: TracerWarning: Converting a tensor to a Python boolean might cause the trace to be incorrect. We can't record the data flow of Python values, so this value will be treated as a constant in the future. This means that the trace might not generalize to other inputs!\n",
      "  assert src_len, key_bsz == value.shape[:2]\n"
     ]
    }
   ],
   "source": [
    "torch.onnx.export(\n",
    "    adapter.cuda(),\n",
    "    (feats.cuda()),\n",
    "    \"hubert.onnx\",\n",
    "    input_names=[\"feats\",],\n",
    "    output_names=[\"logits\",],\n",
    "    dynamic_axes={\n",
    "        \"feats\": {0: \"seq\"},\n",
    "        # \"padding_mask\": {0: \"seq\"},\n",
    "    },\n",
    "    opset_version=14,\n",
    "    do_constant_folding=True,\n",
    ")"
   ]
  },
  {
   "cell_type": "code",
   "execution_count": 24,
   "id": "d72701e0-9e2e-4a6f-80a0-a1278dd5fdf6",
   "metadata": {},
   "outputs": [
    {
     "name": "stderr",
     "output_type": "stream",
     "text": [
      "\u001b[1;31m2025-02-20 15:47:59.288665863 [E:onnxruntime:Default, provider_bridge_ort.cc:1862 TryGetProviderInfo_CUDA] /onnxruntime_src/onnxruntime/core/session/provider_bridge_ort.cc:1539 onnxruntime::Provider& onnxruntime::ProviderLibrary::Get() [ONNXRuntimeError] : 1 : FAIL : Failed to load library libonnxruntime_providers_cuda.so with error: libcudnn.so.9: cannot open shared object file: No such file or directory\n",
      "\u001b[m\n",
      "\u001b[0;93m2025-02-20 15:47:59.288687537 [W:onnxruntime:Default, onnxruntime_pybind_state.cc:993 CreateExecutionProviderInstance] Failed to create CUDAExecutionProvider. Require cuDNN 9.* and CUDA 12.*. Please install all dependencies as mentioned in the GPU requirements page (https://onnxruntime.ai/docs/execution-providers/CUDA-ExecutionProvider.html#requirements), make sure they're in the PATH, and that your GPU is supported.\u001b[m\n"
     ]
    },
    {
     "data": {
      "text/plain": [
       "<onnxruntime.capi.onnxruntime_inference_collection.InferenceSession at 0x7f0c7a6bbac0>"
      ]
     },
     "execution_count": 24,
     "metadata": {},
     "output_type": "execute_result"
    }
   ],
   "source": [
    "# 读取ONNX\n",
    "import onnxruntime as ort\n",
    "\n",
    "model = ort.InferenceSession(\"./hubert.onnx\",providers = [\"CUDAExecutionProvider\"])\n",
    "\n",
    "model"
   ]
  },
  {
   "cell_type": "code",
   "execution_count": 26,
   "id": "c2cf34f1-ee20-4dfe-b57a-015c1a34e39e",
   "metadata": {},
   "outputs": [],
   "source": [
    "r = model.run(\n",
    "    [\"logits\",],\n",
    "    {\n",
    "        \"feats\": feats.cpu().numpy(),\n",
    "        # \"padding_mask\": padding_mask.cpu().numpy()\n",
    "    }\n",
    ")[0]"
   ]
  },
  {
   "cell_type": "code",
   "execution_count": 29,
   "id": "95510751-d229-4f34-806a-d4d6016a00f0",
   "metadata": {},
   "outputs": [],
   "source": [
    "import numpy as np"
   ]
  },
  {
   "cell_type": "code",
   "execution_count": 31,
   "id": "8856aa48-2fee-4e17-92c5-109ccc9e60b8",
   "metadata": {},
   "outputs": [
    {
     "data": {
      "image/png": "[encoded data removed]",
      "text/plain": [
       "<Figure size 640x480 with 1 Axes>"
      ]
     },
     "metadata": {},
     "output_type": "display_data"
    }
   ],
   "source": [
    "import matplotlib.pyplot as plt\n",
    "plt.plot(np.array(r.flatten()),label=\"MyONNX\")\n",
    "plt.plot(output[0].flatten().cpu().detach().numpy(),label=\"FairSeq\")\n",
    "plt.legend()\n",
    "plt.savefig(\"./output.png\",dpi=300)\n",
    "plt.show()"
   ]
  },
  {
   "cell_type": "code",
   "execution_count": null,
   "id": "975092f5-aa24-4ea7-a462-f69831270ff7",
   "metadata": {},
   "outputs": [],
   "source": []
  }
 ],
 "metadata": {
  "kernelspec": {
   "display_name": "Python 3 (ipykernel)",
   "language": "python",
   "name": "python3"
  },
  "language_info": {
   "codemirror_mode": {
    "name": "ipython",
    "version": 3
   },
   "file_extension": ".py",
   "mimetype": "text/x-python",
   "name": "python",
   "nbconvert_exporter": "python",
   "pygments_lexer": "ipython3",
   "version": "3.10.8"
  }
 },
 "nbformat": 4,
 "nbformat_minor": 5
}
