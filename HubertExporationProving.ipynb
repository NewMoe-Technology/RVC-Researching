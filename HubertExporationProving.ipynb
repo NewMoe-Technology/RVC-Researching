{
 "cells": [
  {
   "cell_type": "code",
   "execution_count": 1,
   "id": "2e9b2c9f-3412-4651-a76c-4be0b15af18b",
   "metadata": {},
   "outputs": [
    {
     "name": "stderr",
     "output_type": "stream",
     "text": [
      "2025-02-18 07:12:08 | INFO | fairseq.tasks.text_to_speech | Please install tensorboardX: pip install tensorboardX\n",
      "/usr/local/miniconda3/lib/python3.8/site-packages/tqdm/auto.py:21: TqdmWarning: IProgress not found. Please update jupyter and ipywidgets. See https://ipywidgets.readthedocs.io/en/stable/user_install.html\n",
      "  from .autonotebook import tqdm as notebook_tqdm\n",
      "2025-02-18 07:12:09 | INFO | fairseq.tasks.hubert_pretraining | current directory is /root\n",
      "2025-02-18 07:12:09 | INFO | fairseq.tasks.hubert_pretraining | HubertPretrainingTask Config {'_name': 'hubert_pretraining', 'data': 'metadata', 'fine_tuning': False, 'labels': ['km'], 'label_dir': 'label', 'label_rate': 50.0, 'sample_rate': 16000, 'normalize': False, 'enable_padding': False, 'max_keep_size': None, 'max_sample_size': 250000, 'min_sample_size': 32000, 'single_target': False, 'random_crop': True, 'pad_audio': False}\n",
      "2025-02-18 07:12:09 | INFO | fairseq.models.hubert.hubert | HubertModel Config: {'_name': 'hubert', 'label_rate': 50.0, 'extractor_mode': default, 'encoder_layers': 12, 'encoder_embed_dim': 768, 'encoder_ffn_embed_dim': 3072, 'encoder_attention_heads': 12, 'activation_fn': gelu, 'layer_type': transformer, 'dropout': 0.1, 'attention_dropout': 0.1, 'activation_dropout': 0.0, 'encoder_layerdrop': 0.05, 'dropout_input': 0.1, 'dropout_features': 0.1, 'final_dim': 256, 'untie_final_proj': True, 'layer_norm_first': False, 'conv_feature_layers': '[(512,10,5)] + [(512,3,2)] * 4 + [(512,2,2)] * 2', 'conv_bias': False, 'logit_temp': 0.1, 'target_glu': False, 'feature_grad_mult': 0.1, 'mask_length': 10, 'mask_prob': 0.8, 'mask_selection': static, 'mask_other': 0.0, 'no_mask_overlap': False, 'mask_min_space': 1, 'mask_channel_length': 10, 'mask_channel_prob': 0.0, 'mask_channel_selection': static, 'mask_channel_other': 0.0, 'no_mask_channel_overlap': False, 'mask_channel_min_space': 1, 'conv_pos': 128, 'conv_pos_groups': 16, 'latent_temp': [2.0, 0.5, 0.999995], 'skip_masked': False, 'skip_nomask': False, 'checkpoint_activations': False, 'required_seq_len_multiple': 2, 'depthwise_conv_kernel_size': 31, 'attn_type': '', 'pos_enc_type': 'abs', 'fp16': False}\n",
      "/usr/local/miniconda3/lib/python3.8/site-packages/torch/nn/utils/weight_norm.py:28: UserWarning: torch.nn.utils.weight_norm is deprecated in favor of torch.nn.utils.parametrizations.weight_norm.\n",
      "  warnings.warn(\"torch.nn.utils.weight_norm is deprecated in favor of torch.nn.utils.parametrizations.weight_norm.\")\n"
     ]
    }
   ],
   "source": [
    "from fairseq import checkpoint_utils\n",
    "import torch\n",
    "hubert,_,_ = checkpoint_utils.load_model_ensemble_and_task(\n",
    "    [\"./hubert_base.pt\"],\n",
    "    suffix=\"\",\n",
    ")\n",
    "hubert_model = hubert[0]\n",
    "hubert_model = hubert_model.half()\n",
    "\n",
    "# Create a Adapter model\n",
    "class HuberAdapter(torch.nn.Module):\n",
    "    def __init__(self, model):\n",
    "        super(HuberAdapter, self).__init__()\n",
    "        self.model = model\n",
    "    def forward(self,feats,padding_mask):\n",
    "        inputs = {\n",
    "            \"source\": feats,\n",
    "            \"padding_mask\": padding_mask,\n",
    "            \"output_layer\": 12\n",
    "        }\n",
    "        return self.model.extract_features(**inputs)\n",
    "\n",
    "# Loading presaved feats and padding mask\n",
    "feats = torch.load(\"./feats.pt\")\n",
    "padding_mask = torch.load(\"./padding_mask.pt\")"
   ]
  },
  {
   "cell_type": "code",
   "execution_count": 2,
   "id": "70ebd328-5acb-4144-ad7c-364ce45570ab",
   "metadata": {},
   "outputs": [],
   "source": [
    "adapter = HuberAdapter(hubert_model.cuda())"
   ]
  },
  {
   "cell_type": "code",
   "execution_count": 3,
   "id": "7f2aab8d-e2a2-449b-a5df-7e845da1a1f5",
   "metadata": {},
   "outputs": [],
   "source": [
    "output = adapter(feats,padding_mask)"
   ]
  },
  {
   "cell_type": "code",
   "execution_count": 4,
   "id": "2cb541f7-588d-4af7-93d5-405dfe0cc602",
   "metadata": {},
   "outputs": [
    {
     "data": {
      "text/plain": [
       "torch.Size([1, 100, 768])"
      ]
     },
     "execution_count": 4,
     "metadata": {},
     "output_type": "execute_result"
    }
   ],
   "source": [
    "output[0].shape"
   ]
  },
  {
   "cell_type": "code",
   "execution_count": 5,
   "id": "c5be8443-4e61-4d2e-b916-6a7c2f244f5f",
   "metadata": {},
   "outputs": [
    {
     "data": {
      "text/plain": [
       "torch.Size([1, 100])"
      ]
     },
     "execution_count": 5,
     "metadata": {},
     "output_type": "execute_result"
    }
   ],
   "source": [
    "output[1].shape"
   ]
  },
  {
   "cell_type": "code",
   "execution_count": 6,
   "id": "f338a49f-936e-4680-a36f-292129dae4dc",
   "metadata": {},
   "outputs": [
    {
     "data": {
      "text/plain": [
       "tensor([[[-0.0973, -0.0058,  0.0375,  ..., -0.0207,  0.0184, -0.0429],\n",
       "         [ 0.0897, -0.0811, -0.3062,  ..., -0.0723, -0.0154,  0.0751],\n",
       "         [ 0.0923, -0.1959, -0.3440,  ..., -0.1028,  0.0982,  0.0627],\n",
       "         ...,\n",
       "         [-0.1334,  0.1582, -0.5205,  ...,  0.1016,  0.3640,  0.1255],\n",
       "         [-0.0876,  0.1980, -0.1119,  ...,  0.1500,  0.3696,  0.1107],\n",
       "         [ 0.0884,  0.0048, -0.2225,  ..., -0.0490, -0.0677, -0.1818]]],\n",
       "       device='cuda:0', dtype=torch.float16, grad_fn=<TransposeBackward0>)"
      ]
     },
     "execution_count": 6,
     "metadata": {},
     "output_type": "execute_result"
    }
   ],
   "source": [
    "output[0]"
   ]
  },
  {
   "cell_type": "code",
   "execution_count": 7,
   "id": "217e5c61-5c5c-48e6-8a48-c622742f40c2",
   "metadata": {},
   "outputs": [],
   "source": [
    "import librosa\n",
    "\n",
    "wav,_ = librosa.load(\"./tts.wav\",sr=16000)"
   ]
  },
  {
   "cell_type": "code",
   "execution_count": 8,
   "id": "5654f3e0-1c0f-4bfb-93c8-00a36c3e94b3",
   "metadata": {},
   "outputs": [
    {
     "data": {
      "text/plain": [
       "array([0., 0., 0., ..., 0., 0., 0.], dtype=float32)"
      ]
     },
     "execution_count": 8,
     "metadata": {},
     "output_type": "execute_result"
    }
   ],
   "source": [
    "wav"
   ]
  },
  {
   "cell_type": "markdown",
   "id": "5141b257-9d36-48ff-9e34-602c7b543527",
   "metadata": {},
   "source": [
    "关于下面使用的ONNX模型，可前往Xenova的[HuggingFace仓库](https://huggingface.co/Xenova/hubert-base-ls960)克隆，或使用HuggingFace CLI下载"
   ]
  },
  {
   "cell_type": "code",
   "execution_count": 9,
   "id": "70fa9fba-e3d9-4d34-bd2c-76b1900c5853",
   "metadata": {},
   "outputs": [],
   "source": [
    "import onnxruntime as ort\n",
    "\n",
    "model = ort.InferenceSession(\"./model_quantized.onnx\",providers=[\"CPUExecutionProvider\"])"
   ]
  },
  {
   "cell_type": "code",
   "execution_count": 10,
   "id": "01e05709-4455-4e3f-a639-828a97ee3ded",
   "metadata": {},
   "outputs": [],
   "source": [
    "import numpy as np\n",
    "wav = np.expand_dims(wav,axis=0)"
   ]
  },
  {
   "cell_type": "code",
   "execution_count": 11,
   "id": "36cc6536-9c9f-4f30-9bcd-9b018e34a062",
   "metadata": {},
   "outputs": [
    {
     "data": {
      "text/plain": [
       "array([[0., 0., 0., ..., 0., 0., 0.]], dtype=float32)"
      ]
     },
     "execution_count": 11,
     "metadata": {},
     "output_type": "execute_result"
    }
   ],
   "source": [
    "wav"
   ]
  },
  {
   "cell_type": "code",
   "execution_count": 12,
   "id": "7d53776d-3df2-4419-a161-2ae7e8d58ce8",
   "metadata": {},
   "outputs": [],
   "source": [
    "output_onnx = model.run(\n",
    "    [\"last_hidden_state\"],\n",
    "    {\"input_values\":feats.float().cpu().numpy()}\n",
    ")[0]"
   ]
  },
  {
   "cell_type": "code",
   "execution_count": 13,
   "id": "d4da2843-eed3-4daf-972f-ad330acba8cb",
   "metadata": {},
   "outputs": [
    {
     "data": {
      "text/plain": [
       "(1, 100, 768)"
      ]
     },
     "execution_count": 13,
     "metadata": {},
     "output_type": "execute_result"
    }
   ],
   "source": [
    "output_onnx.shape"
   ]
  },
  {
   "cell_type": "code",
   "execution_count": 23,
   "id": "a8c25970-e1be-48cd-bde6-127dcee9ed27",
   "metadata": {},
   "outputs": [
    {
     "data": {
      "text/plain": [
       "(768,)"
      ]
     },
     "execution_count": 23,
     "metadata": {},
     "output_type": "execute_result"
    }
   ],
   "source": [
    "np.squeeze(output_onnx)[0].shape"
   ]
  },
  {
   "cell_type": "code",
   "execution_count": 31,
   "id": "04c9789e-7cea-4d1a-84a3-27462a9a5c93",
   "metadata": {},
   "outputs": [
    {
     "data": {
      "text/plain": [
       "torch.Size([768])"
      ]
     },
     "execution_count": 31,
     "metadata": {},
     "output_type": "execute_result"
    }
   ],
   "source": [
    "output[0].squeeze()[0].shape"
   ]
  },
  {
   "cell_type": "code",
   "execution_count": 32,
   "id": "d2df6e01-3b53-4140-b5ef-9af2cf93d384",
   "metadata": {},
   "outputs": [
    {
     "data": {
      "image/png": "[encoded data removed]",
      "text/plain": [
       "<Figure size 640x480 with 1 Axes>"
      ]
     },
     "metadata": {},
     "output_type": "display_data"
    }
   ],
   "source": [
    "import matplotlib.pyplot as plt\n",
    "plt.plot(np.squeeze(output_onnx)[0],label=\"Xenova Implemented\")\n",
    "plt.plot(output[0].squeeze().detach()[0].cpu().numpy(),label=\"Facebook Fairseq1 Implemented\")\n",
    "plt.legend()\n",
    "plt.show()"
   ]
  },
  {
   "cell_type": "code",
   "execution_count": null,
   "id": "d71028df-3eef-4ef6-8af5-c1680604c661",
   "metadata": {},
   "outputs": [],
   "source": []
  }
 ],
 "metadata": {
  "kernelspec": {
   "display_name": "Python 3 (ipykernel)",
   "language": "python",
   "name": "python3"
  },
  "language_info": {
   "codemirror_mode": {
    "name": "ipython",
    "version": 3
   },
   "file_extension": ".py",
   "mimetype": "text/x-python",
   "name": "python",
   "nbconvert_exporter": "python",
   "pygments_lexer": "ipython3",
   "version": "3.8.10"
  }
 },
 "nbformat": 4,
 "nbformat_minor": 5
}
