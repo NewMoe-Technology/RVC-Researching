{
 "cells": [
  {
   "cell_type": "code",
   "execution_count": 7,
   "id": "2e9b2c9f-3412-4651-a76c-4be0b15af18b",
   "metadata": {},
   "outputs": [
    {
     "name": "stderr",
     "output_type": "stream",
     "text": [
      "/home/elin/anaconda3/envs/rvc/lib/python3.10/site-packages/fairseq/checkpoint_utils.py:315: FutureWarning: You are using `torch.load` with `weights_only=False` (the current default value), which uses the default pickle module implicitly. It is possible to construct malicious pickle data which will execute arbitrary code during unpickling (See https://github.com/pytorch/pytorch/blob/main/SECURITY.md#untrusted-models for more details). In a future release, the default value for `weights_only` will be flipped to `True`. This limits the functions that could be executed during unpickling. Arbitrary objects will no longer be allowed to be loaded via this mode unless they are explicitly allowlisted by the user via `torch.serialization.add_safe_globals`. We recommend you start setting `weights_only=True` for any use case where you don't have full control of the loaded file. Please open an issue on GitHub for any issues related to this experimental feature.\n",
      "  state = torch.load(f, map_location=torch.device(\"cpu\"))\n",
      "2025-02-20 22:33:32 | INFO | fairseq.tasks.hubert_pretraining | current directory is /home/elin/Retrieval-based-Voice-Conversion-WebUI/notebooks\n",
      "2025-02-20 22:33:32 | INFO | fairseq.tasks.hubert_pretraining | HubertPretrainingTask Config {'_name': 'hubert_pretraining', 'data': 'metadata', 'fine_tuning': False, 'labels': ['km'], 'label_dir': 'label', 'label_rate': 50.0, 'sample_rate': 16000, 'normalize': False, 'enable_padding': False, 'max_keep_size': None, 'max_sample_size': 250000, 'min_sample_size': 32000, 'single_target': False, 'random_crop': True, 'pad_audio': False}\n",
      "2025-02-20 22:33:32 | INFO | fairseq.models.hubert.hubert | HubertModel Config: {'_name': 'hubert', 'label_rate': 50.0, 'extractor_mode': default, 'encoder_layers': 12, 'encoder_embed_dim': 768, 'encoder_ffn_embed_dim': 3072, 'encoder_attention_heads': 12, 'activation_fn': gelu, 'layer_type': transformer, 'dropout': 0.1, 'attention_dropout': 0.1, 'activation_dropout': 0.0, 'encoder_layerdrop': 0.05, 'dropout_input': 0.1, 'dropout_features': 0.1, 'final_dim': 256, 'untie_final_proj': True, 'layer_norm_first': False, 'conv_feature_layers': '[(512,10,5)] + [(512,3,2)] * 4 + [(512,2,2)] * 2', 'conv_bias': False, 'logit_temp': 0.1, 'target_glu': False, 'feature_grad_mult': 0.1, 'mask_length': 10, 'mask_prob': 0.8, 'mask_selection': static, 'mask_other': 0.0, 'no_mask_overlap': False, 'mask_min_space': 1, 'mask_channel_length': 10, 'mask_channel_prob': 0.0, 'mask_channel_selection': static, 'mask_channel_other': 0.0, 'no_mask_channel_overlap': False, 'mask_channel_min_space': 1, 'conv_pos': 128, 'conv_pos_groups': 16, 'latent_temp': [2.0, 0.5, 0.999995], 'skip_masked': False, 'skip_nomask': False, 'checkpoint_activations': False, 'required_seq_len_multiple': 2, 'depthwise_conv_kernel_size': 31, 'attn_type': '', 'pos_enc_type': 'abs', 'fp16': False}\n",
      "/home/elin/anaconda3/envs/rvc/lib/python3.10/site-packages/torch/nn/utils/weight_norm.py:143: FutureWarning: `torch.nn.utils.weight_norm` is deprecated in favor of `torch.nn.utils.parametrizations.weight_norm`.\n",
      "  WeightNorm.apply(module, name, dim)\n",
      "/tmp/ipykernel_3003/3003572229.py:32: FutureWarning: You are using `torch.load` with `weights_only=False` (the current default value), which uses the default pickle module implicitly. It is possible to construct malicious pickle data which will execute arbitrary code during unpickling (See https://github.com/pytorch/pytorch/blob/main/SECURITY.md#untrusted-models for more details). In a future release, the default value for `weights_only` will be flipped to `True`. This limits the functions that could be executed during unpickling. Arbitrary objects will no longer be allowed to be loaded via this mode unless they are explicitly allowlisted by the user via `torch.serialization.add_safe_globals`. We recommend you start setting `weights_only=True` for any use case where you don't have full control of the loaded file. Please open an issue on GitHub for any issues related to this experimental feature.\n",
      "  feats = torch.load(\"./feats.pt\")\n",
      "/tmp/ipykernel_3003/3003572229.py:33: FutureWarning: You are using `torch.load` with `weights_only=False` (the current default value), which uses the default pickle module implicitly. It is possible to construct malicious pickle data which will execute arbitrary code during unpickling (See https://github.com/pytorch/pytorch/blob/main/SECURITY.md#untrusted-models for more details). In a future release, the default value for `weights_only` will be flipped to `True`. This limits the functions that could be executed during unpickling. Arbitrary objects will no longer be allowed to be loaded via this mode unless they are explicitly allowlisted by the user via `torch.serialization.add_safe_globals`. We recommend you start setting `weights_only=True` for any use case where you don't have full control of the loaded file. Please open an issue on GitHub for any issues related to this experimental feature.\n",
      "  padding_mask = torch.load(\"./padding_mask.pt\")\n"
     ]
    }
   ],
   "source": [
    "from fairseq import checkpoint_utils\n",
    "import torch\n",
    "hubert,_,_ = checkpoint_utils.load_model_ensemble_and_task(\n",
    "    [\"../assets/hubert/hubert_base.pt\"],\n",
    "    suffix=\"\",\n",
    ")\n",
    "hubert_model = hubert[0]\n",
    "hubert_model = hubert_model.half()\n",
    "hubert_model.eval()\n",
    "\n",
    "# Create a Adapter model\n",
    "class HuberAdapter(torch.nn.Module):\n",
    "    def __init__(self, model):\n",
    "        super(HuberAdapter, self).__init__()\n",
    "        self.model = model\n",
    "    def forward(self,feats):\n",
    "        # inputs = {\n",
    "        #     \"source\": feats,\n",
    "        #     \"padding_mask\": padding_mask,\n",
    "        #     # \"padding_mask\": None,\n",
    "        #     \"output_layer\": 12\n",
    "        # }\n",
    "        # return self.model.extract_features(**inputs)\n",
    "        return self.model(\n",
    "            source = feats,\n",
    "            output_layer = 12,\n",
    "            features_only = True,\n",
    "            mask = False\n",
    "        )['x']\n",
    "\n",
    "# Loading presaved feats and padding mask\n",
    "feats = torch.load(\"./feats.pt\")\n",
    "padding_mask = torch.load(\"./padding_mask.pt\")"
   ]
  },
  {
   "cell_type": "code",
   "execution_count": 10,
   "id": "20347c75",
   "metadata": {},
   "outputs": [
    {
     "data": {
      "text/plain": [
       "torch.Size([1, 32160])"
      ]
     },
     "execution_count": 10,
     "metadata": {},
     "output_type": "execute_result"
    }
   ],
   "source": [
    "feats.shape"
   ]
  },
  {
   "cell_type": "code",
   "execution_count": 11,
   "id": "70ebd328-5acb-4144-ad7c-364ce45570ab",
   "metadata": {},
   "outputs": [],
   "source": [
    "adapter = HuberAdapter(hubert_model.cuda())"
   ]
  },
  {
   "cell_type": "code",
   "execution_count": 12,
   "id": "7f2aab8d-e2a2-449b-a5df-7e845da1a1f5",
   "metadata": {},
   "outputs": [],
   "source": [
    "output = adapter(feats)"
   ]
  },
  {
   "cell_type": "code",
   "execution_count": 13,
   "id": "2cb541f7-588d-4af7-93d5-405dfe0cc602",
   "metadata": {},
   "outputs": [
    {
     "data": {
      "text/plain": [
       "torch.Size([100, 768])"
      ]
     },
     "execution_count": 13,
     "metadata": {},
     "output_type": "execute_result"
    }
   ],
   "source": [
    "output[0].shape"
   ]
  },
  {
   "cell_type": "code",
   "execution_count": 14,
   "id": "f338a49f-936e-4680-a36f-292129dae4dc",
   "metadata": {},
   "outputs": [
    {
     "data": {
      "text/plain": [
       "tensor([[-0.1176, -0.0119, -0.1047,  ..., -0.0266,  0.1201, -0.0277],\n",
       "        [-0.2391, -0.1185, -0.3022,  ..., -0.2744,  0.0822,  0.1036],\n",
       "        [-0.1465, -0.0118, -0.2264,  ..., -0.2832, -0.0356,  0.0518],\n",
       "        ...,\n",
       "        [-0.0827,  0.2035, -0.3237,  ..., -0.0261,  0.3257,  0.0415],\n",
       "        [-0.1318,  0.2222, -0.0958,  ...,  0.1375,  0.3198,  0.1580],\n",
       "        [ 0.0555,  0.0272, -0.1810,  ..., -0.0231, -0.0336, -0.1392]],\n",
       "       device='cuda:0', dtype=torch.float16, grad_fn=<SelectBackward0>)"
      ]
     },
     "execution_count": 14,
     "metadata": {},
     "output_type": "execute_result"
    }
   ],
   "source": [
    "output[0]"
   ]
  },
  {
   "cell_type": "code",
   "execution_count": 9,
   "id": "1648ddfe-bd41-4d6b-9f89-7cf54c8e5481",
   "metadata": {},
   "outputs": [
    {
     "name": "stdout",
     "output_type": "stream",
     "text": [
      "Looking in indexes: https://repo.huaweicloud.com/repository/pypi/simple\n",
      "Collecting onnx\n",
      "  Using cached https://repo.huaweicloud.com/repository/pypi/packages/dd/5b/c4f95dbe652d14aeba9afaceb177e9ffc48ac3c03048dd3f872f26f07e34/onnx-1.17.0-cp310-cp310-manylinux_2_17_x86_64.manylinux2014_x86_64.whl (16.0 MB)\n",
      "Collecting onnxruntime-gpu\n",
      "  Downloading https://repo.huaweicloud.com/repository/pypi/packages/45/35/4f2df54e3161c61304d9463b5f2ee52c6408b5bca5960029bb787777d913/onnxruntime_gpu-1.20.1-cp310-cp310-manylinux_2_27_x86_64.manylinux_2_28_x86_64.whl (291.5 MB)\n",
      "\u001b[2K     \u001b[90m━━━━━━━━━━━━━━━━━━━━━━━━━━━━━━━━━━━━━━━\u001b[0m \u001b[32m291.5/291.5 MB\u001b[0m \u001b[31m9.9 MB/s\u001b[0m eta \u001b[36m0:00:00\u001b[0m00:01\u001b[0m00:01\u001b[0m\n",
      "\u001b[?25hRequirement already satisfied: numpy>=1.20 in /root/miniconda3/lib/python3.10/site-packages (from onnx) (1.26.4)\n",
      "Requirement already satisfied: protobuf>=3.20.2 in /root/miniconda3/lib/python3.10/site-packages (from onnx) (4.25.3)\n",
      "Requirement already satisfied: sympy in /root/miniconda3/lib/python3.10/site-packages (from onnxruntime-gpu) (1.13.1)\n",
      "Collecting flatbuffers\n",
      "  Downloading https://repo.huaweicloud.com/repository/pypi/packages/b8/25/155f9f080d5e4bc0082edfda032ea2bc2b8fab3f4d25d46c1e9dd22a1a89/flatbuffers-25.2.10-py2.py3-none-any.whl (30 kB)\n",
      "Collecting coloredlogs\n",
      "  Downloading https://repo.huaweicloud.com/repository/pypi/packages/a7/06/3d6badcf13db419e25b07041d9c7b4a2c331d3f4e7134445ec5df57714cd/coloredlogs-15.0.1-py2.py3-none-any.whl (46 kB)\n",
      "\u001b[2K     \u001b[90m━━━━━━━━━━━━━━━━━━━━━━━━━━━━━━━━━━━━━━━━\u001b[0m \u001b[32m46.0/46.0 kB\u001b[0m \u001b[31m15.5 MB/s\u001b[0m eta \u001b[36m0:00:00\u001b[0m\n",
      "\u001b[?25hRequirement already satisfied: packaging in /root/miniconda3/lib/python3.10/site-packages (from onnxruntime-gpu) (24.1)\n",
      "Collecting humanfriendly>=9.1\n",
      "  Downloading https://repo.huaweicloud.com/repository/pypi/packages/f0/0f/310fb31e39e2d734ccaa2c0fb981ee41f7bd5056ce9bc29b2248bd569169/humanfriendly-10.0-py2.py3-none-any.whl (86 kB)\n",
      "\u001b[2K     \u001b[90m━━━━━━━━━━━━━━━━━━━━━━━━━━━━━━━━━━━━━━━━\u001b[0m \u001b[32m86.8/86.8 kB\u001b[0m \u001b[31m33.1 MB/s\u001b[0m eta \u001b[36m0:00:00\u001b[0m\n",
      "\u001b[?25hRequirement already satisfied: mpmath<1.4,>=1.1.0 in /root/miniconda3/lib/python3.10/site-packages (from sympy->onnxruntime-gpu) (1.3.0)\n",
      "Installing collected packages: flatbuffers, onnx, humanfriendly, coloredlogs, onnxruntime-gpu\n",
      "Successfully installed coloredlogs-15.0.1 flatbuffers-25.2.10 humanfriendly-10.0 onnx-1.17.0 onnxruntime-gpu-1.20.1\n",
      "\u001b[33mWARNING: Running pip as the 'root' user can result in broken permissions and conflicting behaviour with the system package manager. It is recommended to use a virtual environment instead: https://pip.pypa.io/warnings/venv\u001b[0m\u001b[33m\n",
      "\u001b[0m"
     ]
    }
   ],
   "source": [
    "!pip install onnx onnxruntime-gpu"
   ]
  },
  {
   "cell_type": "markdown",
   "id": "52e80cf1-008d-4f7f-bfe6-fa37ea41c0e1",
   "metadata": {},
   "source": [
    "Before runnning exportation code,i;ve modified fairseq/models/wav2vec/utils.py with below code:\n",
    "```python\n",
    "def pad_to_multiple(x, multiple, dim=-1, value=0):\n",
    "    # Inspired from https://github.com/lucidrains/local-attention/blob/master/local_attention/local_attention.py#L41\n",
    "    if x is None:\n",
    "        return None, 0\n",
    "    tsz = x.size(dim)\n",
    "    m = tsz / multiple\n",
    "    remainder = math.ceil(m) * multiple - tsz\n",
    "    m = float(m) # => If without this,will raise `Tensor object has no attribute is_integer()`\n",
    "    if m.is_integer():\n",
    "        return x, 0\n",
    "    pad_offset = (0,) * (-1 - dim) * 2\n",
    "\n",
    "    return F.pad(x, (*pad_offset, 0, remainder), value=value), remainder\n",
    "```"
   ]
  },
  {
   "cell_type": "code",
   "execution_count": 15,
   "id": "89950de7-3fd3-45c4-b3a0-02b464394fd8",
   "metadata": {},
   "outputs": [
    {
     "name": "stderr",
     "output_type": "stream",
     "text": [
      "/home/elin/anaconda3/envs/rvc/lib/python3.10/site-packages/fairseq/models/wav2vec/utils.py:16: TracerWarning: Converting a tensor to a Python float might cause the trace to be incorrect. We can't record the data flow of Python values, so this value will be treated as a constant in the future. This means that the trace might not generalize to other inputs!\n",
      "  remainder = math.ceil(m) * multiple - tsz\n",
      "/home/elin/anaconda3/envs/rvc/lib/python3.10/site-packages/fairseq/models/wav2vec/utils.py:17: TracerWarning: Converting a tensor to a Python float might cause the trace to be incorrect. We can't record the data flow of Python values, so this value will be treated as a constant in the future. This means that the trace might not generalize to other inputs!\n",
      "  m = float(m)\n",
      "/home/elin/anaconda3/envs/rvc/lib/python3.10/site-packages/fairseq/modules/multihead_attention.py:506: TracerWarning: Converting a tensor to a Python boolean might cause the trace to be incorrect. We can't record the data flow of Python values, so this value will be treated as a constant in the future. This means that the trace might not generalize to other inputs!\n",
      "  assert (\n",
      "/home/elin/anaconda3/envs/rvc/lib/python3.10/site-packages/fairseq/modules/multihead_attention.py:509: TracerWarning: Converting a tensor to a Python boolean might cause the trace to be incorrect. We can't record the data flow of Python values, so this value will be treated as a constant in the future. This means that the trace might not generalize to other inputs!\n",
      "  assert list(query.size()) == [tgt_len, bsz, embed_dim]\n",
      "/home/elin/anaconda3/envs/rvc/lib/python3.10/site-packages/fairseq/modules/multihead_attention.py:514: TracerWarning: Converting a tensor to a Python boolean might cause the trace to be incorrect. We can't record the data flow of Python values, so this value will be treated as a constant in the future. This means that the trace might not generalize to other inputs!\n",
      "  assert src_len, key_bsz == value.shape[:2]\n"
     ]
    }
   ],
   "source": [
    "torch.onnx.export(\n",
    "    adapter.cuda(),\n",
    "    (feats.cuda()),\n",
    "    \"hubert.onnx\",\n",
    "    input_names=[\"feats\",],\n",
    "    output_names=[\"logits\",],\n",
    "    dynamic_axes={\n",
    "        \"feats\": {0: \"batch\", 1: \"seq\"},\n",
    "        \"logits\": {0: \"batch\", 1: \"seq\"},\n",
    "    },\n",
    "    opset_version=14,\n",
    "    do_constant_folding=True,\n",
    ")"
   ]
  },
  {
   "cell_type": "code",
   "execution_count": 16,
   "id": "d72701e0-9e2e-4a6f-80a0-a1278dd5fdf6",
   "metadata": {},
   "outputs": [
    {
     "name": "stderr",
     "output_type": "stream",
     "text": [
      "\u001b[0;93m2025-02-20 22:34:29.633033374 [W:onnxruntime:, transformer_memcpy.cc:74 ApplyImpl] 12 Memcpy nodes are added to the graph main_graph for CUDAExecutionProvider. It might have negative impact on performance (including unable to run CUDA graph). Set session_options.log_severity_level=1 to see the detail logs before this message.\u001b[m\n",
      "\u001b[0;93m2025-02-20 22:34:29.638827820 [W:onnxruntime:, session_state.cc:1168 VerifyEachNodeIsAssignedToAnEp] Some nodes were not assigned to the preferred execution providers which may or may not have an negative impact on performance. e.g. ORT explicitly assigns shape related ops to CPU to improve perf.\u001b[m\n",
      "\u001b[0;93m2025-02-20 22:34:29.638843880 [W:onnxruntime:, session_state.cc:1170 VerifyEachNodeIsAssignedToAnEp] Rerunning with verbose output on a non-minimal build will show node assignments.\u001b[m\n"
     ]
    },
    {
     "data": {
      "text/plain": [
       "<onnxruntime.capi.onnxruntime_inference_collection.InferenceSession at 0x7f18547efeb0>"
      ]
     },
     "execution_count": 16,
     "metadata": {},
     "output_type": "execute_result"
    }
   ],
   "source": [
    "# 读取ONNX\n",
    "import onnxruntime as ort\n",
    "\n",
    "model = ort.InferenceSession(\"./ONNX_Models/hubert.onnx\",providers = [\"CUDAExecutionProvider\"])\n",
    "\n",
    "model"
   ]
  },
  {
   "cell_type": "code",
   "execution_count": 17,
   "id": "c2cf34f1-ee20-4dfe-b57a-015c1a34e39e",
   "metadata": {},
   "outputs": [],
   "source": [
    "r = model.run(\n",
    "    [\"logits\",],\n",
    "    {\n",
    "        \"feats\": feats.cpu().numpy(),\n",
    "        # \"padding_mask\": padding_mask.cpu().numpy()\n",
    "    }\n",
    ")[0]"
   ]
  },
  {
   "cell_type": "code",
   "execution_count": 18,
   "id": "95510751-d229-4f34-806a-d4d6016a00f0",
   "metadata": {},
   "outputs": [],
   "source": [
    "import numpy as np"
   ]
  },
  {
   "cell_type": "code",
   "execution_count": 19,
   "id": "8856aa48-2fee-4e17-92c5-109ccc9e60b8",
   "metadata": {},
   "outputs": [
    {
     "data": {
      "image/png": "[encoded data removed]",
      "text/plain": [
       "<Figure size 640x480 with 1 Axes>"
      ]
     },
     "metadata": {},
     "output_type": "display_data"
    }
   ],
   "source": [
    "import matplotlib.pyplot as plt\n",
    "plt.plot(np.array(r.flatten()),label=\"MyONNX\")\n",
    "plt.plot(output[0].flatten().cpu().detach().numpy(),label=\"FairSeq\")\n",
    "plt.legend()\n",
    "plt.savefig(\"./output.png\",dpi=300)\n",
    "plt.show()"
   ]
  },
  {
   "cell_type": "code",
   "execution_count": null,
   "id": "975092f5-aa24-4ea7-a462-f69831270ff7",
   "metadata": {},
   "outputs": [],
   "source": []
  }
 ],
 "metadata": {
  "kernelspec": {
   "display_name": "rvc",
   "language": "python",
   "name": "python3"
  },
  "language_info": {
   "codemirror_mode": {
    "name": "ipython",
    "version": 3
   },
   "file_extension": ".py",
   "mimetype": "text/x-python",
   "name": "python",
   "nbconvert_exporter": "python",
   "pygments_lexer": "ipython3",
   "version": "3.9.0"
  }
 },
 "nbformat": 4,
 "nbformat_minor": 5
}
